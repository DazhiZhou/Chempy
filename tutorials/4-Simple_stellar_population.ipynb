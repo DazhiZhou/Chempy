{
 "cells": [
  {
   "cell_type": "markdown",
   "metadata": {},
   "source": [
    "## Simple Stellar Population (SSP)\n",
    "Here we will explain the central routine of **Chempy**. The observational counterpart of an SSP is the open cluster. All stars are approximately born at the same time, and from the same ISM abundances. Therefore the SSP is characterized by its total **mass**, its birth **age** and its **initial elemental composition**. When assuming **stellar lifetimes**, an **IMF** and **nucleosynthetic feedback** we can calculate its feedback over time.\n",
    "You will see how this is realized in Chempy."
   ]
  },
  {
   "cell_type": "code",
   "execution_count": 1,
   "metadata": {},
   "outputs": [
    {
     "name": "stdout",
     "output_type": "stream",
     "text": [
      "Populating the interactive namespace from numpy and matplotlib\n"
     ]
    }
   ],
   "source": [
    "%pylab inline"
   ]
  },
  {
   "cell_type": "code",
   "execution_count": 2,
   "metadata": {
    "collapsed": true
   },
   "outputs": [],
   "source": [
    "# Chempy has to be called from within the /source directory. We load the default parameters\n",
    "\n",
    "from Chempy.parameter import ModelParameters\n",
    "a = ModelParameters()"
   ]
  },
  {
   "cell_type": "markdown",
   "metadata": {},
   "source": [
    "First we load the default values of:\n",
    "- IMF\n",
    "- SN2, AGB and SNIa feedback"
   ]
  },
  {
   "cell_type": "code",
   "execution_count": 4,
   "metadata": {},
   "outputs": [
    {
     "name": "stderr",
     "output_type": "stream",
     "text": [
      "/home/rybizki/anaconda3/lib/python3.6/site-packages/numpy/core/records.py:507: FutureWarning: Numpy has detected that you may be viewing or writing to an array returned by selecting multiple fields in a structured array. \n",
      "\n",
      "This code may break in numpy 1.13 because this will return a view instead of a copy -- see release notes for details.\n",
      "  return obj.view(dtype=(self.dtype.type, obj.dtype))\n"
     ]
    }
   ],
   "source": [
    "# Load the IMF\n",
    "\n",
    "from Chempy.imf import IMF\n",
    "#basic_imf = IMF(a.mmin,a.mmax,a.mass_steps)\n",
    "#getattr(basic_imf, a.imf_type_name)((a.chabrier_para1,a.chabrier_para2,a.chabrier_para3,a.high_mass_slope))\n",
    "\n",
    "# Load the yields of the default yield set\n",
    "\n",
    "from Chempy.yields import SN2_feedback, AGB_feedback, SN1a_feedback\n",
    "basic_sn2 = SN2_feedback()\n",
    "getattr(basic_sn2, \"Nomoto2013\")()\n",
    "basic_1a = SN1a_feedback()\n",
    "getattr(basic_1a, \"Seitenzahl\")()\n",
    "basic_agb = AGB_feedback()\n",
    "getattr(basic_agb, \"Karakas_net_yield\")()"
   ]
  },
  {
   "cell_type": "markdown",
   "metadata": {},
   "source": [
    "We check how many elements are traced by our yield set"
   ]
  },
  {
   "cell_type": "code",
   "execution_count": 5,
   "metadata": {},
   "outputs": [
    {
     "name": "stdout",
     "output_type": "stream",
     "text": [
      "['Al', 'Ar', 'B', 'Be', 'C', 'Ca', 'Cl', 'Co', 'Cr', 'Cu', 'F', 'Fe', 'Ga', 'Ge', 'H', 'He', 'K', 'Li', 'Mg', 'Mn', 'N', 'Na', 'Ne', 'Ni', 'O', 'P', 'S', 'Sc', 'Si', 'Ti', 'V', 'Zn']\n"
     ]
    }
   ],
   "source": [
    "# Print all supported elements\n",
    "\n",
    "elements_to_trace = list(np.unique(basic_agb.elements+basic_sn2.elements+basic_1a.elements))\n",
    "print(elements_to_trace)"
   ]
  },
  {
   "cell_type": "markdown",
   "metadata": {},
   "source": [
    "When initialising the SSP class, we have to make the following choices(in brackets our choices are given):\n",
    "\n",
    "- Which metallicity does it have (Solar)\n",
    "- How long will the SSP live and at which timesteps do we want the feedback to be evaluated (Delta t = 0.025 for 13.5 Gyr)\n",
    "- What is the lifetime rroutine (Argast+ 2000)\n",
    "- How should the interpolation in metallicity from the yield tables be (logarithmic)\n",
    "- Do we want to safe the net yields as well (No)\n"
   ]
  },
  {
   "cell_type": "code",
   "execution_count": 6,
   "metadata": {},
   "outputs": [
    {
     "ename": "AttributeError",
     "evalue": "'IMF' object has no attribute 'dm'",
     "output_type": "error",
     "traceback": [
      "\u001b[0;31m---------------------------------------------------------------------------\u001b[0m",
      "\u001b[0;31mAttributeError\u001b[0m                            Traceback (most recent call last)",
      "\u001b[0;32m<ipython-input-6-9748ccc9a5ba>\u001b[0m in \u001b[0;36m<module>\u001b[0;34m()\u001b[0m\n\u001b[1;32m     10\u001b[0m \u001b[0mtime_steps\u001b[0m \u001b[0;34m=\u001b[0m \u001b[0mnp\u001b[0m\u001b[0;34m.\u001b[0m\u001b[0mlinspace\u001b[0m\u001b[0;34m(\u001b[0m\u001b[0;36m0.\u001b[0m\u001b[0;34m,\u001b[0m\u001b[0;36m13.5\u001b[0m\u001b[0;34m,\u001b[0m\u001b[0;36m541\u001b[0m\u001b[0;34m)\u001b[0m\u001b[0;34m\u001b[0m\u001b[0m\n\u001b[1;32m     11\u001b[0m \u001b[0;32mfrom\u001b[0m \u001b[0mChempy\u001b[0m\u001b[0;34m.\u001b[0m\u001b[0mweighted_yield\u001b[0m \u001b[0;32mimport\u001b[0m \u001b[0mSSP\u001b[0m\u001b[0;34m\u001b[0m\u001b[0m\n\u001b[0;32m---> 12\u001b[0;31m \u001b[0mbasic_ssp\u001b[0m \u001b[0;34m=\u001b[0m \u001b[0mSSP\u001b[0m\u001b[0;34m(\u001b[0m\u001b[0;32mFalse\u001b[0m\u001b[0;34m,\u001b[0m \u001b[0mnp\u001b[0m\u001b[0;34m.\u001b[0m\u001b[0mcopy\u001b[0m\u001b[0;34m(\u001b[0m\u001b[0mbasic_solar\u001b[0m\u001b[0;34m.\u001b[0m\u001b[0mz\u001b[0m\u001b[0;34m)\u001b[0m\u001b[0;34m,\u001b[0m \u001b[0mnp\u001b[0m\u001b[0;34m.\u001b[0m\u001b[0mcopy\u001b[0m\u001b[0;34m(\u001b[0m\u001b[0mbasic_imf\u001b[0m\u001b[0;34m.\u001b[0m\u001b[0mx\u001b[0m\u001b[0;34m)\u001b[0m\u001b[0;34m,\u001b[0m \u001b[0mnp\u001b[0m\u001b[0;34m.\u001b[0m\u001b[0mcopy\u001b[0m\u001b[0;34m(\u001b[0m\u001b[0mbasic_imf\u001b[0m\u001b[0;34m.\u001b[0m\u001b[0mdm\u001b[0m\u001b[0;34m)\u001b[0m\u001b[0;34m,\u001b[0m \u001b[0mnp\u001b[0m\u001b[0;34m.\u001b[0m\u001b[0mcopy\u001b[0m\u001b[0;34m(\u001b[0m\u001b[0mbasic_imf\u001b[0m\u001b[0;34m.\u001b[0m\u001b[0mdn\u001b[0m\u001b[0;34m)\u001b[0m\u001b[0;34m,\u001b[0m \u001b[0mnp\u001b[0m\u001b[0;34m.\u001b[0m\u001b[0mcopy\u001b[0m\u001b[0;34m(\u001b[0m\u001b[0mtime_steps\u001b[0m\u001b[0;34m)\u001b[0m\u001b[0;34m,\u001b[0m \u001b[0mlist\u001b[0m\u001b[0;34m(\u001b[0m\u001b[0melements_to_trace\u001b[0m\u001b[0;34m)\u001b[0m\u001b[0;34m,\u001b[0m \u001b[0;34m'Argast_2000'\u001b[0m\u001b[0;34m,\u001b[0m \u001b[0;34m'logarithmic'\u001b[0m\u001b[0;34m,\u001b[0m \u001b[0;32mFalse\u001b[0m\u001b[0;34m)\u001b[0m\u001b[0;34m\u001b[0m\u001b[0m\n\u001b[0m",
      "\u001b[0;31mAttributeError\u001b[0m: 'IMF' object has no attribute 'dm'"
     ]
    }
   ],
   "source": [
    "# Load solar abundances\n",
    "\n",
    "from Chempy.solar_abundance import solar_abundances\n",
    "basic_solar = solar_abundances()\n",
    "getattr(basic_solar, 'Asplund09')()\n",
    "\n",
    "\n",
    "# Initialise the SSP class with time-steps\n",
    "\n",
    "time_steps = np.linspace(0.,13.5,541)\n",
    "from Chempy.weighted_yield import SSP\n",
    "basic_ssp = SSP(False, np.copy(basic_solar.z), np.copy(basic_imf.x), np.copy(basic_imf.dm), np.copy(basic_imf.dn), np.copy(time_steps), list(elements_to_trace), 'Argast_2000', 'logarithmic', False) "
   ]
  },
  {
   "cell_type": "markdown",
   "metadata": {},
   "source": [
    "\n",
    "This initialises the SSP class. It calculates the inverse IMF (stars of which minimal mass will be dead until each time-step) and it also initialises the feedback table, which need to be filled by the feedback from each subroutine, representing a specific nucleosynthetic process (CC-SN, AGB star, SN Ia). For the inverse IMF's first time-steps we see that only after the first and second time-step CC-SN will contribute (only stars smaller than 8Msun survive longer...)."
   ]
  },
  {
   "cell_type": "code",
   "execution_count": null,
   "metadata": {
    "collapsed": true
   },
   "outputs": [],
   "source": [
    "# Plotting the inverse IMF\n",
    "\n",
    "plt.plot(time_steps[1:],basic_ssp.inverse_imf[1:])\n",
    "plt.ylabel('Mass of stars dying')\n",
    "plt.xlabel('Time in Gyr')\n",
    "plt.ylim((0.7,11))\n",
    "for i in range(5):\n",
    "    print(time_steps[i], ' Gyr -->', basic_ssp.inverse_imf[i], ' Msun')"
   ]
  },
  {
   "cell_type": "markdown",
   "metadata": {},
   "source": [
    "In order to calculate the feedback for the CC-SN and AGB star we will need to provide the elemental abundances at birth, for which we will use solar abundances for now. (This is the case for net yields, gross yields already include the initial stellar abundance that will be expelled.)"
   ]
  },
  {
   "cell_type": "code",
   "execution_count": null,
   "metadata": {
    "collapsed": true
   },
   "outputs": [],
   "source": [
    "# Producing the SSP birth elemental fractions (here we use solar)\n",
    "\n",
    "solar_fractions = []\n",
    "elements = np.hstack(basic_solar.all_elements)\n",
    "for item in elements_to_trace:\n",
    "    solar_fractions.append(float(basic_solar.fractions[np.where(elements==item)]))"
   ]
  },
  {
   "cell_type": "code",
   "execution_count": null,
   "metadata": {
    "collapsed": true
   },
   "outputs": [],
   "source": [
    "# Each nucleosynthetic process has its own method on the SSP class and adds its feedback into the final table\n",
    "\n",
    "basic_ssp.sn2_feedback(list(basic_sn2.elements), dict(basic_sn2.table), np.copy(basic_sn2.metallicities), float(a.sn2mmin), float(a.sn2mmax),list(solar_fractions))\n",
    "basic_ssp.agb_feedback(list(basic_agb.elements), dict(basic_agb.table), list(basic_agb.metallicities), float(a.agbmmin), float(a.agbmmax),list(solar_fractions))\n",
    "basic_ssp.sn1a_feedback(list(basic_1a.elements), list(basic_1a.metallicities), dict(basic_1a.table), str(a.time_delay_functional_form), float(a.sn1ammin), float(a.sn1ammax), [a.N_0,a.sn1a_time_delay,a.sn1a_exponent,a.dummy],float(a.total_mass), a.stochastic_IMF)"
   ]
  },
  {
   "cell_type": "markdown",
   "metadata": {},
   "source": [
    "### Elemental feedback from an SSP over time"
   ]
  },
  {
   "cell_type": "code",
   "execution_count": null,
   "metadata": {
    "collapsed": true
   },
   "outputs": [],
   "source": [
    "# Now we can plot the feedback of an SSP over time for a few elements\n",
    "\n",
    "plt.plot(time_steps,np.cumsum(basic_ssp.table['H']), label = 'H')\n",
    "plt.plot(time_steps,np.cumsum(basic_ssp.table['O']), label = 'O')\n",
    "plt.plot(time_steps,np.cumsum(basic_ssp.table['C']), label = 'C')\n",
    "plt.plot(time_steps,np.cumsum(basic_ssp.table['Fe']), label = 'Fe')\n",
    "plt.yscale('log')\n",
    "plt.xscale('log')\n",
    "plt.ylabel('Mass fraction of Element expelled')\n",
    "plt.title('Total feedback of an SSP of 1Msun')\n",
    "plt.xlabel('Time in Gyr')\n",
    "plt.legend()"
   ]
  },
  {
   "cell_type": "markdown",
   "metadata": {},
   "source": [
    "### The difference between different yield sets"
   ]
  },
  {
   "cell_type": "code",
   "execution_count": null,
   "metadata": {
    "collapsed": true
   },
   "outputs": [],
   "source": [
    "# Loading an SSP which uses the alternative yield set\n",
    "\n",
    "basic_ssp_alternative = SSP(False, np.copy(basic_solar.z), np.copy(basic_imf.x), np.copy(basic_imf.dm), np.copy(basic_imf.dn), np.copy(time_steps), list(elements_to_trace), 'Argast_2000', 'logarithmic', False) \n",
    "basic_sn2_alternative = SN2_feedback()\n",
    "getattr(basic_sn2_alternative, \"chieffi04\")()\n",
    "basic_1a_alternative = SN1a_feedback()\n",
    "getattr(basic_1a_alternative, \"Thielemann\")()\n",
    "basic_agb_alternative = AGB_feedback()\n",
    "getattr(basic_agb_alternative, \"Ventura\")()\n",
    "basic_ssp_alternative.sn2_feedback(list(basic_sn2_alternative.elements), dict(basic_sn2_alternative.table), np.copy(basic_sn2_alternative.metallicities), float(a.sn2mmin), float(a.sn2mmax),list(solar_fractions))\n",
    "basic_ssp_alternative.agb_feedback(list(basic_agb_alternative.elements), dict(basic_agb_alternative.table), list(basic_agb_alternative.metallicities), float(a.agbmmin), float(a.agbmmax),list(solar_fractions))\n",
    "basic_ssp_alternative.sn1a_feedback(list(basic_1a_alternative.elements), list(basic_1a_alternative.metallicities), dict(basic_1a_alternative.table), str(a.time_delay_functional_form), float(a.sn1ammin), float(a.sn1ammax), [a.N_0,a.sn1a_time_delay,a.sn1a_exponent,a.dummy],float(a.total_mass), a.stochastic_IMF)\n",
    "\n",
    "\n",
    "# Plotting the difference\n",
    "\n",
    "plt.plot(time_steps,np.cumsum(basic_ssp.table['H']), label = 'H', color = 'b')\n",
    "plt.plot(time_steps,np.cumsum(basic_ssp.table['O']), label = 'O', color = 'orange')\n",
    "plt.plot(time_steps,np.cumsum(basic_ssp.table['C']), label = 'C', color = 'g')\n",
    "plt.plot(time_steps,np.cumsum(basic_ssp.table['Fe']), label = 'Fe', color = 'r')\n",
    "plt.plot(time_steps,np.cumsum(basic_ssp_alternative.table['H']), linestyle = '--', color = 'b')\n",
    "plt.plot(time_steps,np.cumsum(basic_ssp_alternative.table['O']), linestyle = '--', color = 'orange')\n",
    "plt.plot(time_steps,np.cumsum(basic_ssp_alternative.table['C']), linestyle = '--', color = 'g')\n",
    "plt.plot(time_steps,np.cumsum(basic_ssp_alternative.table['Fe']), linestyle = '--', color = 'r')\n",
    "plt.yscale('log')\n",
    "plt.xscale('log')\n",
    "plt.ylabel('Mass fraction of Element expelled')\n",
    "plt.title('default/alternative yield set in solid/dashed lines')\n",
    "plt.xlabel('Time in Gyr')\n",
    "plt.legend()"
   ]
  },
  {
   "cell_type": "markdown",
   "metadata": {},
   "source": [
    "### The contribution of different nucleosynthetic paths to a single element"
   ]
  },
  {
   "cell_type": "code",
   "execution_count": null,
   "metadata": {
    "collapsed": true
   },
   "outputs": [],
   "source": [
    "# The SSP class stores the individual feedback of each nucleosynthetic channel\n",
    "# Here we plot the Carbon feedback over time\n",
    "\n",
    "plt.plot(time_steps,np.cumsum(basic_ssp.table['C']), label = 'total')\n",
    "plt.plot(time_steps,np.cumsum(basic_ssp.sn2_table['C']), label = 'CC-SN')\n",
    "plt.plot(time_steps,np.cumsum(basic_ssp.sn1a_table['C']), label = 'SN Ia')\n",
    "plt.plot(time_steps,np.cumsum(basic_ssp.agb_table['C']), label = 'AGB')\n",
    "plt.yscale('log')\n",
    "plt.xscale('log')\n",
    "plt.ylabel('Mass fraction of Element expelled')\n",
    "plt.xlabel('Time in Gyr')\n",
    "plt.title('Carbon feedback per nucleosynthetic process')\n",
    "plt.legend()"
   ]
  },
  {
   "cell_type": "markdown",
   "metadata": {},
   "source": [
    "### The number of events"
   ]
  },
  {
   "cell_type": "code",
   "execution_count": null,
   "metadata": {
    "collapsed": true
   },
   "outputs": [],
   "source": [
    "# The number of events is stored as well\n",
    "\n",
    "plt.plot(time_steps,np.cumsum(basic_ssp.table['sn2']), label = 'CC-SN')\n",
    "plt.plot(time_steps,np.cumsum(basic_ssp.table['sn1a']), label = 'SN Ia')\n",
    "plt.plot(time_steps,np.cumsum(basic_ssp.table['pn']), label = 'AGB')\n",
    "plt.yscale('log')\n",
    "plt.xscale('log')\n",
    "plt.ylabel('# of events')\n",
    "plt.xlabel('Time in Gyr')\n",
    "plt.title('Number of events per SSP of 1Msun')\n",
    "plt.legend()"
   ]
  },
  {
   "cell_type": "markdown",
   "metadata": {},
   "source": [
    "### The mass fractions"
   ]
  },
  {
   "cell_type": "code",
   "execution_count": null,
   "metadata": {
    "collapsed": true
   },
   "outputs": [],
   "source": [
    "# As is the mass fraction of stars, remnants, dying stars from which the total feedback mass can be calculated\n",
    "\n",
    "plt.plot(time_steps,basic_ssp.table['mass_in_ms_stars'], label = 'Ms stars')\n",
    "plt.plot(time_steps,np.cumsum(basic_ssp.table['mass_in_remnants']), label = 'remnants')\n",
    "plt.plot(time_steps,np.cumsum(basic_ssp.table['mass_of_ms_stars_dying']), label = 'dying')\n",
    "plt.plot(time_steps,np.cumsum(basic_ssp.table['mass_of_ms_stars_dying']) - np.cumsum(basic_ssp.table['mass_in_remnants']), label = 'feedback')\n",
    "\n",
    "plt.yscale('log')\n",
    "plt.xscale('log')\n",
    "plt.ylabel('Mass fraction')\n",
    "plt.xlabel('Time in Gyr')\n",
    "plt.title('Mass of stars gets transformed into remnants and feedback over time')\n",
    "plt.legend(loc = 'right', bbox_to_anchor= (1.6,0.5))"
   ]
  },
  {
   "cell_type": "markdown",
   "metadata": {
    "collapsed": true
   },
   "source": [
    "## IMF weighted yield of an SSP \n",
    "- Depends on the timespan over which we integrate (here we use the full 13.5Gyr)\n",
    "- Depends on the IMF\n",
    "- On the chosen yield set\n",
    "- The mass range of the nucleosynthetic process (e.g. low-mass CC-SN have only solar alpha/Fe abundances)\n",
    "- etc... play around and investigate"
   ]
  },
  {
   "cell_type": "code",
   "execution_count": null,
   "metadata": {
    "collapsed": true
   },
   "outputs": [],
   "source": [
    "# Here we print the time-integrated yield of an SSP (feedback after 13,5Gyr)\n",
    "# for different elements and also for CC-SNe feedback only\n",
    "\n",
    "normalising_element = 'Fe'\n",
    "print('alternative yield set')\n",
    "print('Element, total SSP yield, CC-SN yield ([X/Fe] i.e. normalised to solar)')\n",
    "for element in ['C', 'O', 'Mg', 'Ca', 'Mn', 'Ni']:\n",
    "    element_ssp_sn2 = sum(basic_ssp_alternative.sn2_table[element])\n",
    "    element_ssp = sum(basic_ssp_alternative.table[element])\n",
    "    element_sun = basic_solar.fractions[np.where(elements == element)]\n",
    "    normalising_element_ssp_sn2 = sum(basic_ssp_alternative.sn2_table[normalising_element])\n",
    "    normalising_element_ssp = sum(basic_ssp_alternative.table[normalising_element])\n",
    "    normalising_element_sun = basic_solar.fractions[np.where(elements == normalising_element)]\n",
    "    print(element, np.log10(element_ssp/element_sun)-np.log10(normalising_element_ssp/normalising_element_sun), np.log10(element_ssp_sn2/element_sun)-np.log10(normalising_element_ssp_sn2/normalising_element_sun))\n",
    "print('------------------------------------------')\n",
    "print('default yield set')\n",
    "print('Element, total SSP yield, CC-SN yield ([X/Fe] i.e. normalised to solar)')\n",
    "for element in ['C', 'O', 'Mg', 'Ca', 'Mn', 'Ni']:\n",
    "    element_ssp_sn2 = sum(basic_ssp.sn2_table[element])\n",
    "    element_ssp = sum(basic_ssp.table[element])\n",
    "    element_sun = basic_solar.fractions[np.where(elements == element)]\n",
    "    normalising_element_ssp_sn2 = sum(basic_ssp.sn2_table[normalising_element])\n",
    "    normalising_element_ssp = sum(basic_ssp.table[normalising_element])\n",
    "    normalising_element_sun = basic_solar.fractions[np.where(elements == normalising_element)]\n",
    "    print(element, np.log10(element_ssp/element_sun)-np.log10(normalising_element_ssp/normalising_element_sun), np.log10(element_ssp_sn2/element_sun)-np.log10(normalising_element_ssp_sn2/normalising_element_sun))"
   ]
  },
  {
   "cell_type": "markdown",
   "metadata": {},
   "source": [
    "### Net yield vs. gross yield\n",
    "Here the difference between newly produced material (net yield) and total expelled material (gross yield) is shown for AGB and CC-SN."
   ]
  },
  {
   "cell_type": "code",
   "execution_count": null,
   "metadata": {
    "collapsed": true
   },
   "outputs": [],
   "source": [
    "# We can set the the additional table (e.g. agb_table) to only save the newly produced material\n",
    "\n",
    "basic_ssp_net = SSP(False, np.copy(basic_solar.z), np.copy(basic_imf.x), np.copy(basic_imf.dm), np.copy(basic_imf.dn), np.copy(time_steps), list(elements_to_trace), 'Argast_2000', 'logarithmic', True) \n",
    "basic_ssp_net.agb_feedback(list(basic_agb.elements), dict(basic_agb.table), list(basic_agb.metallicities), float(a.agbmmin), float(a.agbmmax),list(solar_fractions))\n",
    "\n",
    "# And then compare these net yields to gross yields for C\n",
    "\n",
    "plt.plot(time_steps,np.cumsum(basic_ssp.agb_table['C']), label = 'total')\n",
    "plt.plot(time_steps,np.cumsum(basic_ssp_net.agb_table['C']), label = 'newly produced')\n",
    "plt.yscale('log')\n",
    "plt.xscale('log')\n",
    "plt.ylabel('Carbon feedback from AGB stars')\n",
    "plt.xlabel('Time in Gyr')\n",
    "plt.title('Net yield vs. gross yield')\n",
    "plt.legend()"
   ]
  },
  {
   "cell_type": "code",
   "execution_count": null,
   "metadata": {
    "collapsed": true
   },
   "outputs": [],
   "source": [
    "# And show the same for O and CC-SNe\n",
    "\n",
    "basic_ssp_net = SSP(False, basic_solar.z, basic_imf.x, basic_imf.dm, basic_imf.dn, time_steps, elements_to_trace, 'Argast_2000', 'logarithmic', True)\n",
    "basic_ssp_net.sn2_feedback(list(basic_sn2.elements), dict(basic_sn2.table), np.copy(basic_sn2.metallicities), float(a.sn2mmin), float(a.sn2mmax),list(solar_fractions))\n",
    "plt.plot(time_steps,np.cumsum(basic_ssp.sn2_table['He']), label = 'total')\n",
    "plt.plot(time_steps,np.cumsum(basic_ssp_net.sn2_table['He']), label = 'newly produced')\n",
    "plt.yscale('log')\n",
    "plt.xscale('log')\n",
    "plt.ylabel('Cumulative Helium feedback from CC-SN')\n",
    "plt.xlabel('Time in Gyr')\n",
    "plt.title('Net vs. gross yield')\n",
    "plt.legend()"
   ]
  },
  {
   "cell_type": "markdown",
   "metadata": {},
   "source": [
    "## Stochastic IMF sampling\n",
    "- The feedback and the explosion of SN Ia can also be calculated stochastically.\n",
    "- The mass of the SSP needs to be provided (the feedback table is given in fractions).\n",
    "- Each realisation will be new (you can check by redoing the plot)."
   ]
  },
  {
   "cell_type": "code",
   "execution_count": null,
   "metadata": {
    "collapsed": true
   },
   "outputs": [],
   "source": [
    "# The IMF can be sampled stochastically. First we plot the analytic version \n",
    "\n",
    "basic_imf = IMF(a.mmin,a.mmax,a.mass_steps)\n",
    "getattr(basic_imf, a.imf_type_name)((a.chabrier_para1,a.chabrier_para2,a.chabrier_para3,a.high_mass_slope))\n",
    "basic_ssp = SSP(False, np.copy(basic_solar.z), np.copy(basic_imf.x), np.copy(basic_imf.dm), np.copy(basic_imf.dn), np.copy(time_steps), list(elements_to_trace), 'Argast_2000', 'logarithmic', False) \n",
    "basic_ssp.sn2_feedback(list(basic_sn2.elements), dict(basic_sn2.table), np.copy(basic_sn2.metallicities), float(a.sn2mmin), float(a.sn2mmax),list(solar_fractions))\n",
    "basic_ssp.agb_feedback(list(basic_agb.elements), dict(basic_agb.table), list(basic_agb.metallicities), float(a.agbmmin), float(a.agbmmax),list(solar_fractions))\n",
    "basic_ssp.sn1a_feedback(list(basic_1a.elements), list(basic_1a.metallicities), dict(basic_1a.table), str(a.time_delay_functional_form), float(a.sn1ammin), float(a.sn1ammax), [a.N_0,a.sn1a_time_delay,a.sn1a_exponent,a.dummy],float(a.total_mass), True)\n",
    "plt.plot(time_steps,np.cumsum(basic_ssp.table['Fe']), label = 'analytic IMF')\n",
    "\n",
    "\n",
    "# Then we add the stochastic sampling for 3 different masses\n",
    "\n",
    "for mass in [1e5,5e3,1e2]:\n",
    "    basic_imf = IMF(a.mmin,a.mmax,a.mass_steps)\n",
    "    getattr(basic_imf, a.imf_type_name)((a.chabrier_para1,a.chabrier_para2,a.chabrier_para3,a.high_mass_slope))\n",
    "    basic_imf.stochastic_sampling(mass)\n",
    "    basic_ssp = SSP(False, np.copy(basic_solar.z), np.copy(basic_imf.x), np.copy(basic_imf.dm), np.copy(basic_imf.dn), np.copy(time_steps), list(elements_to_trace), 'Argast_2000', 'logarithmic', False) \n",
    "    basic_ssp.sn2_feedback(list(basic_sn2.elements), dict(basic_sn2.table), np.copy(basic_sn2.metallicities), float(a.sn2mmin), float(a.sn2mmax),list(solar_fractions))\n",
    "    basic_ssp.agb_feedback(list(basic_agb.elements), dict(basic_agb.table), list(basic_agb.metallicities), float(a.agbmmin), float(a.agbmmax),list(solar_fractions))\n",
    "    basic_ssp.sn1a_feedback(list(basic_1a.elements), list(basic_1a.metallicities), dict(basic_1a.table), str(a.time_delay_functional_form), float(a.sn1ammin), float(a.sn1ammax), [a.N_0,a.sn1a_time_delay,a.sn1a_exponent,a.dummy],float(a.total_mass), True)\n",
    "    plt.plot(time_steps,np.cumsum(basic_ssp.table['Fe']), label = '%d Msun' %(mass))\n",
    "plt.xscale('log')\n",
    "plt.ylabel('Cumulative fractional iron feedback of an SSP')\n",
    "plt.xlabel('Time in Gyr')\n",
    "plt.legend(bbox_to_anchor = (1.5,1))"
   ]
  },
  {
   "cell_type": "markdown",
   "metadata": {},
   "source": [
    "## SSP wrapper\n",
    "In order to query the SSP feedback faster and easier we write a little wrapper in wrapper.py and look at the imf weighted yield change with IMF. We compare the bottom-heavy Kroupa IMF with the Salpeter IMF (which has more high-mass stars). We see that the total SSP yield changes quite drastically."
   ]
  },
  {
   "cell_type": "code",
   "execution_count": null,
   "metadata": {
    "collapsed": true
   },
   "outputs": [],
   "source": [
    "# Here we show the functionality of the wrapper, which makes the SSP calculation easy.\n",
    "# We want to show the differences of the SSP feedback for 2 IMFs and load Kroupa first\n",
    "\n",
    "a.only_net_yields_in_process_tables = False\n",
    "a.imf_type_name = 'normed_3slope'\n",
    "a.imf_parameter = (-1.3,-2.2,-2.7,0.5,1.0)\n",
    "\n",
    "# The feedback can now be calculated by just typing the next three lines\n",
    "\n",
    "from Chempy.wrapper import SSP_wrap\n",
    "basic_ssp = SSP_wrap(a)\n",
    "basic_ssp.calculate_feedback(float(basic_solar.z),list(elements_to_trace),list(solar_fractions),np.copy(time_steps))\n",
    "\n",
    "\n",
    "# We print the Kroupa IMF feedback\n",
    "\n",
    "print('Kroupa IMF')\n",
    "print('Element, total SSP yield, CC-SN yield ([X/Fe] i.e. normalised to solar)')\n",
    "for element in ['C', 'O', 'Mg', 'Ca', 'Mn', 'Ni']:\n",
    "    element_ssp_sn2 = sum(basic_ssp.sn2_table[element])\n",
    "    element_ssp = sum(basic_ssp.table[element])\n",
    "    element_sun = basic_solar.fractions[np.where(elements == element)]\n",
    "    normalising_element_ssp_sn2 = sum(basic_ssp.sn2_table[normalising_element])\n",
    "    normalising_element_ssp = sum(basic_ssp.table[normalising_element])\n",
    "    normalising_element_sun = basic_solar.fractions[np.where(elements == normalising_element)]\n",
    "    print(element, np.log10(element_ssp/element_sun)-np.log10(normalising_element_ssp/normalising_element_sun), np.log10(element_ssp_sn2/element_sun)-np.log10(normalising_element_ssp_sn2/normalising_element_sun))\n",
    "\n",
    "# Change to Salpeter    \n",
    "\n",
    "a.imf_type_name = 'salpeter'\n",
    "a.imf_parameter = (2.35)\n",
    "\n",
    "\n",
    "# Calculate the SSP feedback\n",
    "\n",
    "basic_ssp = SSP_wrap(a)\n",
    "basic_ssp.calculate_feedback(float(basic_solar.z),list(elements_to_trace),list(solar_fractions),np.copy(time_steps))\n",
    "\n",
    "\n",
    "# And print the feedback for comparison\n",
    "\n",
    "print('Salpeter IMF')\n",
    "print('Element, total SSP yield, CC-SN yield ([X/Fe] i.e. normalised to solar)')\n",
    "for element in ['C', 'O', 'Mg', 'Ca', 'Mn', 'Ni']:\n",
    "    element_ssp_sn2 = sum(basic_ssp.sn2_table[element])\n",
    "    element_ssp = sum(basic_ssp.table[element])\n",
    "    element_sun = basic_solar.fractions[np.where(elements == element)]\n",
    "    normalising_element_ssp_sn2 = sum(basic_ssp.sn2_table[normalising_element])\n",
    "    normalising_element_ssp = sum(basic_ssp.table[normalising_element])\n",
    "    normalising_element_sun = basic_solar.fractions[np.where(elements == normalising_element)]\n",
    "    print(element, np.log10(element_ssp/element_sun)-np.log10(normalising_element_ssp/normalising_element_sun), np.log10(element_ssp_sn2/element_sun)-np.log10(normalising_element_ssp_sn2/normalising_element_sun))"
   ]
  },
  {
   "cell_type": "markdown",
   "metadata": {},
   "source": [
    "## Paper plot\n",
    "Here is the code create a plot similar to figure 4 of the paper. "
   ]
  },
  {
   "cell_type": "code",
   "execution_count": null,
   "metadata": {
    "collapsed": true
   },
   "outputs": [],
   "source": [
    "# Loading the default parameters so that we can change them and see what happens with the SSP feedback\n",
    "\n",
    "a = ModelParameters()\n",
    "a.high_mass_slope = -2.29 \n",
    "a.N_0 = np.power(10,-2.75) \n",
    "a.sn1a_time_delay = np.power(10,-0.8)\n",
    "a.imf_parameter = (22.8978, 716.4, 0.25, a.high_mass_slope)\n",
    "a.sn1a_parameter = [a.N_0, a.sn1a_time_delay, 1.12, 0.0]\n",
    "a.mmax = 100\n",
    "time_steps = np.linspace(0.,13.5,1401)\n",
    "\n",
    "# Then calculating the feedback table\n",
    "\n",
    "basic_ssp = SSP_wrap(a)\n",
    "basic_ssp.calculate_feedback(float(basic_solar.z),list(a.elements_to_trace),list(solar_fractions),np.copy(time_steps))\n",
    "\n",
    "# To prettify the plot\n",
    "\n",
    "plt.clf()\n",
    "m=plt.cm.jet\n",
    "text_size = 20\n",
    "cor_text = 22\n",
    "plt.rc('font', family='serif',size = text_size)\n",
    "plt.rc('xtick', labelsize=text_size)\n",
    "plt.rc('ytick', labelsize=text_size)\n",
    "plt.rc('axes', labelsize=text_size, lw=2.0)\n",
    "plt.rc('lines', linewidth = 2)\n",
    "plt.rcParams['ytick.major.pad']='8'\n",
    "plt.rcParams['text.latex.preamble']=[r\"\\usepackage{libertine}\"]\n",
    "params = {'text.usetex' : True,\n",
    "          'font.size' : 16,\n",
    "          'font.family' : 'libertine',\n",
    "          'text.latex.unicode': True,\n",
    "          }\n",
    "plt.rcParams.update(params)\n",
    "\n",
    "alpha = 0.5\n",
    "factor = 1.05\n",
    "\n",
    "## Actual plotting\n",
    "\n",
    "fig = plt.figure(figsize=(8.69,6.69), dpi=100)\n",
    "ax = fig.add_subplot(111)\n",
    "ax.plot(time_steps,np.cumsum(basic_ssp.sn2_table[\"Fe\"]),'b', label = 'CC-SN')\n",
    "ax.annotate(xy = (time_steps[-1]*factor,np.sum(basic_ssp.sn2_table[\"Fe\"])*0.9) ,s = 'Fe',color = 'b')\n",
    "ax.plot(time_steps,np.cumsum(basic_ssp.sn1a_table[\"Fe\"]), 'r', label = 'SN Ia')\n",
    "ax.annotate(xy = (time_steps[-1]*factor,np.sum(basic_ssp.sn1a_table[\"Fe\"])) ,s = 'Fe',color = 'r')\n",
    "\n",
    "ax.plot(time_steps,np.cumsum(basic_ssp.sn2_table[\"Mg\"]),'b')\n",
    "ax.annotate(xy = (time_steps[-1]*factor,np.sum(basic_ssp.sn2_table[\"Mg\"])) ,s = 'Mg',color = 'b')\n",
    "ax.plot(time_steps,np.cumsum(basic_ssp.sn1a_table[\"Mg\"]),'r')\n",
    "ax.annotate(xy = (time_steps[-1]*factor,np.sum(basic_ssp.sn1a_table[\"Mg\"])) ,s = 'Mg',color = 'r')\n",
    "\n",
    "ax.plot(time_steps,np.ones_like(time_steps)*5e-3,marker = '|', markersize = 10, linestyle = '', color = 'k', alpha = 2*alpha)#, label = 'time-steps')\n",
    "ax.annotate(xy = (time_steps[1],2.7e-3),s = r'model time-steps with mass of stars dying in M$_\\odot$', color = 'k', alpha = 2*alpha)\n",
    "for numb in [1,2,4,11,38,117,1000]:\n",
    "    if numb < len(time_steps):\n",
    "        plt.annotate(xy = (time_steps[numb],3.5e-3),s = '%.f' %(basic_ssp.inverse_imf[numb]), color = 'k', alpha = 2*alpha)\n",
    "ax.legend()\n",
    "ax.set_ylim(2e-5,6e-3)\n",
    "ax.set_xlim(7e-3,25)\n",
    "ax.set_title(r'yield of SSP with mass = 1M$_\\odot$ and metallicity = Z$_\\odot$')\n",
    "ax.set_ylabel(r\"net yield in M$_\\odot$\")\n",
    "ax.set_xlabel(\"time in Gyr\")\n",
    "\n",
    "ax.set_yscale('log')\n",
    "ax.set_xscale('log')\n",
    "plt.show()"
   ]
  },
  {
   "cell_type": "markdown",
   "metadata": {},
   "source": [
    "That's why Fe is a fairly good indicator for the incidence of SN Ia and Mg is a very good indicator for the incidence of CC-SN."
   ]
  }
 ],
 "metadata": {
  "kernelspec": {
   "display_name": "Python 3",
   "language": "python",
   "name": "python3"
  },
  "language_info": {
   "codemirror_mode": {
    "name": "ipython",
    "version": 3
   },
   "file_extension": ".py",
   "mimetype": "text/x-python",
   "name": "python",
   "nbconvert_exporter": "python",
   "pygments_lexer": "ipython3",
   "version": "3.6.3"
  }
 },
 "nbformat": 4,
 "nbformat_minor": 1
}
