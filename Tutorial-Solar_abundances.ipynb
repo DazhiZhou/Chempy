{
 "cells": [
  {
   "cell_type": "code",
   "execution_count": 1,
   "metadata": {
    "collapsed": false
   },
   "outputs": [
    {
     "name": "stdout",
     "output_type": "stream",
     "text": [
      "Populating the interactive namespace from numpy and matplotlib\n"
     ]
    }
   ],
   "source": [
    "%pylab inline"
   ]
  },
  {
   "cell_type": "code",
   "execution_count": 2,
   "metadata": {
    "collapsed": false
   },
   "outputs": [
    {
     "name": "stdout",
     "output_type": "stream",
     "text": [
      "/home/jan/Arbeitsfläche/Chempy_for_upload/source\n"
     ]
    }
   ],
   "source": [
    "cd source/"
   ]
  },
  {
   "cell_type": "code",
   "execution_count": 3,
   "metadata": {
    "collapsed": false
   },
   "outputs": [],
   "source": [
    "from parameter import ModelParameters\n",
    "from solar_abundance import solar_abundances"
   ]
  },
  {
   "cell_type": "code",
   "execution_count": 4,
   "metadata": {
    "collapsed": true
   },
   "outputs": [],
   "source": [
    "a = ModelParameters() # This loads the default parameters, you can check and change them in paramter.py"
   ]
  },
  {
   "cell_type": "code",
   "execution_count": 5,
   "metadata": {
    "collapsed": false
   },
   "outputs": [
    {
     "name": "stdout",
     "output_type": "stream",
     "text": [
      "['Lodders09', 'Asplund09', 'Asplund05_pure_solar', 'Asplund05_apogee_correction']\n"
     ]
    }
   ],
   "source": [
    "print a.solar_abundance_name_list # These are the implemented solar abundances"
   ]
  },
  {
   "cell_type": "code",
   "execution_count": 6,
   "metadata": {
    "collapsed": false
   },
   "outputs": [],
   "source": [
    "basic_solar = solar_abundances()\n",
    "getattr(basic_solar, a.solar_abundance_name)() # First we load the default solar abundances from Asplund 2009"
   ]
  },
  {
   "cell_type": "code",
   "execution_count": 7,
   "metadata": {
    "collapsed": false
   },
   "outputs": [
    {
     "data": {
      "text/plain": [
       "0.73739776788034606"
      ]
     },
     "execution_count": 7,
     "metadata": {},
     "output_type": "execute_result"
    }
   ],
   "source": [
    "basic_solar.x # The Hydrogen fraction"
   ]
  },
  {
   "cell_type": "code",
   "execution_count": 8,
   "metadata": {
    "collapsed": false
   },
   "outputs": [
    {
     "data": {
      "text/plain": [
       "0.24923529618045798"
      ]
     },
     "execution_count": 8,
     "metadata": {},
     "output_type": "execute_result"
    }
   ],
   "source": [
    "basic_solar.y # The Helium fraction"
   ]
  },
  {
   "cell_type": "code",
   "execution_count": 9,
   "metadata": {
    "collapsed": false
   },
   "outputs": [
    {
     "data": {
      "text/plain": [
       "0.013366935939195926"
      ]
     },
     "execution_count": 9,
     "metadata": {},
     "output_type": "execute_result"
    }
   ],
   "source": [
    "basic_solar.z # The metallicity (all elements heavier than Helium)"
   ]
  },
  {
   "cell_type": "code",
   "execution_count": 32,
   "metadata": {
    "collapsed": false
   },
   "outputs": [
    {
     "name": "stdout",
     "output_type": "stream",
     "text": [
      "#, Symbol, Mass fraction, Photospheric abundance, Error\n",
      "H     1 0.73739776788 12.0 0.0\n",
      "He    2 0.24923529618 10.93 0.01\n",
      "Li    3 0.00000000924 3.26 0.05\n",
      "Be    4 0.00000000013 1.3 0.03\n",
      "B     5 0.00000000488 2.79 0.04\n",
      "C     6 0.00236502348 8.43 0.05\n",
      "N     7 0.00069279216 7.83 0.05\n",
      "O     8 0.00573285338 8.69 0.05\n",
      "F     9 0.00000036560 4.42 0.06\n",
      "Ne   10 0.00125655599 7.93 0.1\n",
      "Na   11 0.00002922818 6.24 0.04\n",
      "Mg   12 0.00070788509 7.6 0.04\n",
      "Al   13 0.00005563318 6.45 0.03\n",
      "Si   14 0.00066488923 7.51 0.03\n",
      "P    15 0.00000582453 5.41 0.03\n",
      "S    16 0.00030924194 7.12 0.03\n",
      "Cl   17 0.00000440474 5.23 0.06\n",
      "Ar   18 0.00007341118 6.4 0.13\n",
      "K    19 0.00000306496 5.03 0.09\n",
      "Ca   20 0.00006414653 6.34 0.04\n",
      "Sc   21 0.00000004646 3.15 0.04\n",
      "Ti   22 0.00000312107 4.95 0.05\n",
      "V    23 0.00000031720 3.93 0.08\n",
      "Cr   24 0.00001660496 5.64 0.04\n",
      "Mn   25 0.00001081783 5.43 0.04\n",
      "Fe   26 0.00129196704 7.5 0.04\n",
      "Co   27 0.00000421335 4.99 0.07\n",
      "Ni   28 0.00007126174 6.22 0.04\n",
      "Cu   29 0.00000072004 4.19 0.04\n",
      "Zn   30 0.00000173665 4.56 0.05\n"
     ]
    }
   ],
   "source": [
    "print '#, Symbol, Mass fraction, Photospheric abundance, Error'\n",
    "for i,item in enumerate(basic_solar.all_elements[:30]): # Here the content of basic_solar is illustrated\n",
    "    print '{0:3s}'.format(item), '{0:3d}'.format(i+1), '{0:.11f}'.format(basic_solar.fractions[i]) ,basic_solar.table['photospheric'][i],basic_solar.table['error'][i]"
   ]
  },
  {
   "cell_type": "code",
   "execution_count": 11,
   "metadata": {
    "collapsed": false
   },
   "outputs": [],
   "source": [
    "j = np.argsort(basic_solar.fractions)[::-1] # We sort the elements for their masses\n",
    "symbols = np.hstack(basic_solar.all_elements) "
   ]
  },
  {
   "cell_type": "code",
   "execution_count": 33,
   "metadata": {
    "collapsed": false
   },
   "outputs": [
    {
     "name": "stdout",
     "output_type": "stream",
     "text": [
      "Symbol, Mass fraction\n",
      "  1 H   0.73739776788\n",
      "  2 He  0.24923529618\n",
      "  3 O   0.00573285338\n",
      "  4 C   0.00236502348\n",
      "  5 Fe  0.00129196704\n",
      "  6 Ne  0.00125655599\n",
      "  7 Mg  0.00070788509\n",
      "  8 N   0.00069279216\n",
      "  9 Si  0.00066488923\n",
      " 10 S   0.00030924194\n",
      " 11 Ar  0.00007341118\n",
      " 12 Ni  0.00007126174\n",
      " 13 Ca  0.00006414653\n",
      " 14 Al  0.00005563318\n",
      " 15 Na  0.00002922818\n",
      " 16 Cr  0.00001660496\n",
      " 17 Mn  0.00001081783\n",
      " 18 P   0.00000582453\n",
      " 19 Cl  0.00000440474\n",
      " 20 Co  0.00000421335\n"
     ]
    }
   ],
   "source": [
    "print 'Symbol, Mass fraction' # and get a list of top 20 most abundant elements in the Sun\n",
    "for i,item in enumerate(symbols[j][:20]):\n",
    "    print '{0:3d}'.format(i+1), '{0:3s}'.format(item),'{0:.11f}'.format(basic_solar.fractions[j][i])#,basic_solar.table['photospheric'][j][i],basic_solar.table['error'][j][i]\n"
   ]
  },
  {
   "cell_type": "code",
   "execution_count": 25,
   "metadata": {
    "collapsed": false
   },
   "outputs": [],
   "source": [
    "basic_solar_lodders = solar_abundances() # The same functionality is available for the other solar abundances\n",
    "getattr(basic_solar_lodders, 'Lodders09')()\n",
    "basic_solar_asplund05 = solar_abundances() # We load three solar abundances and compare their metallicities\n",
    "basic_solar_asplund05.Asplund05_pure_solar()"
   ]
  },
  {
   "cell_type": "code",
   "execution_count": 29,
   "metadata": {
    "collapsed": false
   },
   "outputs": [
    {
     "name": "stdout",
     "output_type": "stream",
     "text": [
      "0.013367 0.014031 0.012205\n"
     ]
    }
   ],
   "source": [
    "print '{0:2f}'.format(basic_solar.z), '{0:2f}'.format(basic_solar_lodders.z), '{0:2f}'.format(basic_solar_asplund05.z)"
   ]
  },
  {
   "cell_type": "markdown",
   "metadata": {},
   "source": [
    "Beware, that different authors have different Solar metallicities.\n",
    "This will affect the stellar lifetimes and yield table queeries, amongst others."
   ]
  }
 ],
 "metadata": {
  "kernelspec": {
   "display_name": "Python 2",
   "language": "python",
   "name": "python2"
  },
  "language_info": {
   "codemirror_mode": {
    "name": "ipython",
    "version": 2
   },
   "file_extension": ".py",
   "mimetype": "text/x-python",
   "name": "python",
   "nbconvert_exporter": "python",
   "pygments_lexer": "ipython2",
   "version": "2.7.12"
  }
 },
 "nbformat": 4,
 "nbformat_minor": 0
}
